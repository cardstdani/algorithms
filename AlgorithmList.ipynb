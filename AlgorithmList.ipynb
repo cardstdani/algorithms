{
  "nbformat": 4,
  "nbformat_minor": 0,
  "metadata": {
    "colab": {
      "provenance": [],
      "authorship_tag": "ABX9TyP/gGO1n2L6dixzJY2ocKu/",
      "include_colab_link": true
    },
    "kernelspec": {
      "name": "python3",
      "display_name": "Python 3"
    },
    "language_info": {
      "name": "python"
    }
  },
  "cells": [
    {
      "cell_type": "markdown",
      "metadata": {
        "id": "view-in-github",
        "colab_type": "text"
      },
      "source": [
        "<a href=\"https://colab.research.google.com/github/cardstdani/algorithms/blob/main/AlgorithmList.ipynb\" target=\"_parent\"><img src=\"https://colab.research.google.com/assets/colab-badge.svg\" alt=\"Open In Colab\"/></a>"
      ]
    },
    {
      "cell_type": "code",
      "source": [
        "import random\n",
        "import numpy as np"
      ],
      "metadata": {
        "id": "dT27GozEZFoz"
      },
      "execution_count": 6,
      "outputs": []
    },
    {
      "cell_type": "markdown",
      "source": [
        "**ZigZag Traverse**"
      ],
      "metadata": {
        "id": "wgIOwI4fWyHl"
      }
    },
    {
      "cell_type": "code",
      "execution_count": 24,
      "metadata": {
        "colab": {
          "base_uri": "https://localhost:8080/"
        },
        "id": "v60vVDT2WviJ",
        "outputId": "8ba0d492-cabe-4e31-9c7f-4f32924ce389"
      },
      "outputs": [
        {
          "output_type": "stream",
          "name": "stdout",
          "text": [
            "[[5 1 0 3 4 3 2 1 9]\n",
            " [4 3 0 4 1 0 0 6 2]\n",
            " [2 9 2 7 2 5 7 2 1]\n",
            " [3 4 2 0 4 1 0 0 8]\n",
            " [5 5 4 7 7 6 9 4 8]\n",
            " [0 1 2 3 1 9 9 1 0]\n",
            " [3 0 9 9 6 3 8 8 3]\n",
            " [8 7 0 8 6 5 8 2 5]] \n",
            "Output:\n",
            "[5, 4, 1, 0, 3, 2, 3, 9, 0, 3, 4, 4, 2, 4, 5, 0, 5, 2, 7, 1, 3, 2, 0, 2, 0, 4, 1, 3, 8, 0, 2, 7, 4, 5, 0, 1, 9, 6, 7, 1, 7, 3, 9, 7, 0, 9, 1, 6, 0, 2, 2, 1, 0, 9, 9, 6, 8, 6, 3, 9, 4, 8, 8, 1, 8, 5, 8, 8, 0, 3, 2, 5]\n"
          ]
        }
      ],
      "source": [
        "inMatrix  = np.random.randint(0,10,(random.randint(1, 10),random.randint(1, 10)))\n",
        "\n",
        "def zigZag(matrix, up=0):\n",
        "    out = []\n",
        "    i, j = 0, 0\n",
        "\n",
        "    while ((i+1) <= len(matrix)) and ((j+1) <= len(matrix[0])):\n",
        "        out.append(matrix[i][j])\n",
        "        if up==0:\n",
        "            if ((j-1) < 0): i += 1; up = 1; continue\n",
        "            elif ((i+1) == len(matrix)): j += 1; up = 1; continue\n",
        "            if ((j-1) < 0) and ((i+1) == len(matrix)): j += 1; up = 1; continue\n",
        "        else:\n",
        "            if ((i-1) < 0): j += 1; up = 0; continue\n",
        "            elif ((j+1) == len(matrix[0])): i += 1; up = 0; continue\n",
        "            if ((i-1) < 0) and ((j+1) == len(matrix[0])): i += 1; up = 0; continue\n",
        "\n",
        "        i += -1 if up else 1\n",
        "        j += 1 if up else -1\n",
        "    return out\n",
        "\n",
        "print(f\"{inMatrix} \\nOutput:\\n{zigZag(inMatrix)}\")"
      ]
    }
  ]
}