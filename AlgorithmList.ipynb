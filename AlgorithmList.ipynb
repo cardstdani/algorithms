{
  "nbformat": 4,
  "nbformat_minor": 0,
  "metadata": {
    "colab": {
      "provenance": [],
      "authorship_tag": "ABX9TyPXbPuvmco/uf7v6Wg9k+MD",
      "include_colab_link": true
    },
    "kernelspec": {
      "name": "python3",
      "display_name": "Python 3"
    },
    "language_info": {
      "name": "python"
    }
  },
  "cells": [
    {
      "cell_type": "markdown",
      "metadata": {
        "id": "view-in-github",
        "colab_type": "text"
      },
      "source": [
        "<a href=\"https://colab.research.google.com/github/cardstdani/algorithms/blob/main/AlgorithmList.ipynb\" target=\"_parent\"><img src=\"https://colab.research.google.com/assets/colab-badge.svg\" alt=\"Open In Colab\"/></a>"
      ]
    },
    {
      "cell_type": "code",
      "source": [
        "import random\n",
        "import numpy as np"
      ],
      "metadata": {
        "id": "dT27GozEZFoz"
      },
      "execution_count": 2,
      "outputs": []
    },
    {
      "cell_type": "markdown",
      "source": [
        "**ZigZag Traverse**"
      ],
      "metadata": {
        "id": "wgIOwI4fWyHl"
      }
    },
    {
      "cell_type": "code",
      "execution_count": null,
      "metadata": {
        "colab": {
          "base_uri": "https://localhost:8080/"
        },
        "id": "v60vVDT2WviJ",
        "outputId": "76220735-5386-4e3d-b8e1-2666012b8dfb"
      },
      "outputs": [
        {
          "output_type": "stream",
          "name": "stdout",
          "text": [
            "[[7 3 4 4 2 2 2 4 0]\n",
            " [0 8 3 6 4 9 4 3 4]\n",
            " [8 2 2 8 3 9 7 3 6]\n",
            " [7 9 9 0 3 5 4 3 2]] \n",
            "Output:\n",
            "[7, 0, 3, 4, 8, 8, 7, 2, 3, 4, 2, 6, 2, 9, 9, 8, 4, 2, 2, 9, 3, 0, 3, 9, 4, 4, 0, 3, 7, 5, 4, 3, 4, 6, 3, 2]\n"
          ]
        }
      ],
      "source": [
        "inMatrix  = np.random.randint(0,10,(random.randint(1, 10),random.randint(1, 10)))\n",
        "\n",
        "def zigZag(matrix, up=0):\n",
        "    out = []\n",
        "    i, j = 0, 0\n",
        "\n",
        "    while ((i+1) <= len(matrix)) and ((j+1) <= len(matrix[0])):\n",
        "        out.append(matrix[i][j])\n",
        "        if up==0:\n",
        "            if ((j-1) < 0): i += 1; up = 1; continue\n",
        "            elif ((i+1) == len(matrix)): j += 1; up = 1; continue\n",
        "            if ((j-1) < 0) and ((i+1) == len(matrix)): j += 1; up = 1; continue\n",
        "        else:\n",
        "            if ((i-1) < 0): j += 1; up = 0; continue\n",
        "            elif ((j+1) == len(matrix[0])): i += 1; up = 0; continue\n",
        "            if ((i-1) < 0) and ((j+1) == len(matrix[0])): i += 1; up = 0; continue\n",
        "\n",
        "        i += -1 if up else 1\n",
        "        j += 1 if up else -1\n",
        "    return out\n",
        "\n",
        "print(f\"{inMatrix} \\nOutput:\\n{zigZag(inMatrix)}\")"
      ]
    },
    {
      "cell_type": "code",
      "source": [
        "inMatrix  = np.random.randint(0,10,(random.randint(1, 10),random.randint(1, 10)))\n",
        "\n",
        "def zigZag(matrix):\n",
        "    out = []\n",
        "    i, j = 0, 0\n",
        "    rows = len(matrix)\n",
        "    cols = len(matrix[0])\n",
        "    up = 1\n",
        "\n",
        "    while i < rows and j < cols:\n",
        "        out.append(matrix[i][j])\n",
        "\n",
        "        if up == 1:\n",
        "            if j == 0 or i == rows - 1:\n",
        "                up = 0\n",
        "                if i == rows - 1:\n",
        "                    j += 1\n",
        "                else:\n",
        "                    i += 1\n",
        "            else:\n",
        "                i += 1\n",
        "                j -= 1\n",
        "        else:\n",
        "            if i == 0 or j == cols - 1:\n",
        "                up = 1\n",
        "                if j == cols - 1:\n",
        "                    i += 1\n",
        "                else:\n",
        "                    j += 1\n",
        "            else:\n",
        "                i -= 1\n",
        "                j += 1\n",
        "    return out\n",
        "\n",
        "print(f\"{inMatrix} \\nOutput:\\n{zigZag(inMatrix)}\")"
      ],
      "metadata": {
        "colab": {
          "base_uri": "https://localhost:8080/"
        },
        "id": "MIHYTV21ihhT",
        "outputId": "80c65f3a-e31d-4675-bd36-2dff29170324"
      },
      "execution_count": 3,
      "outputs": [
        {
          "output_type": "stream",
          "name": "stdout",
          "text": [
            "[[8 1]\n",
            " [1 1]\n",
            " [6 3]\n",
            " [5 7]\n",
            " [9 0]\n",
            " [8 0]\n",
            " [5 5]] \n",
            "Output:\n",
            "[8, 1, 1, 1, 6, 5, 3, 7, 9, 8, 0, 0, 5, 5]\n"
          ]
        }
      ]
    }
  ]
}