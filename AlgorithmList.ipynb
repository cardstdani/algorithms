{
  "nbformat": 4,
  "nbformat_minor": 0,
  "metadata": {
    "colab": {
      "provenance": [],
      "authorship_tag": "ABX9TyOYMwKn4ELivN3/9pmd96H8",
      "include_colab_link": true
    },
    "kernelspec": {
      "name": "python3",
      "display_name": "Python 3"
    },
    "language_info": {
      "name": "python"
    }
  },
  "cells": [
    {
      "cell_type": "markdown",
      "metadata": {
        "id": "view-in-github",
        "colab_type": "text"
      },
      "source": [
        "<a href=\"https://colab.research.google.com/github/cardstdani/algorithms/blob/main/AlgorithmList.ipynb\" target=\"_parent\"><img src=\"https://colab.research.google.com/assets/colab-badge.svg\" alt=\"Open In Colab\"/></a>"
      ]
    },
    {
      "cell_type": "code",
      "source": [
        "import random\n",
        "import numpy as np"
      ],
      "metadata": {
        "id": "dT27GozEZFoz"
      },
      "execution_count": 6,
      "outputs": []
    },
    {
      "cell_type": "markdown",
      "source": [
        "**ZigZag Traverse**"
      ],
      "metadata": {
        "id": "wgIOwI4fWyHl"
      }
    },
    {
      "cell_type": "code",
      "execution_count": 18,
      "metadata": {
        "colab": {
          "base_uri": "https://localhost:8080/"
        },
        "id": "v60vVDT2WviJ",
        "outputId": "1d56a51f-998c-4452-8ea8-6670714f3521"
      },
      "outputs": [
        {
          "output_type": "stream",
          "name": "stdout",
          "text": [
            "[[1 0 1 6 8 9 3 9]\n",
            " [5 9 5 2 0 9 3 8]\n",
            " [0 8 4 1 8 9 5 5]] \n",
            "Output:\n",
            "[1, 5]\n"
          ]
        }
      ],
      "source": [
        "inMatrix  = np.random.randint(0,10,(random.randint(1, 10),random.randint(1, 10)))\n",
        "\n",
        "def zigZag(matrix, up=0):\n",
        "    out = []\n",
        "    i, j = 0, 0\n",
        "\n",
        "    while ((i+1) < len(matrix)) and ((j+1) < len(matrix[0])):\n",
        "        out.append(matrix[i][j])\n",
        "        if not up:\n",
        "            if ((j-1) < 0): i += 1; up = 1; continue\n",
        "            elif ((i+1) == len(matrix)): j += 1; up = 1; continue\n",
        "        else:\n",
        "            if ((i-1) < 0): j += 1; up = 0; continue\n",
        "            elif ((j+1) == len(matrix[0])): i += 1; up = 0; continue\n",
        "\n",
        "        i += 1 if up else -1\n",
        "        j += 1 if up else -1\n",
        "\n",
        "    return out\n",
        "\n",
        "print(f\"{inMatrix} \\nOutput:\\n{zigZag(inMatrix)}\")"
      ]
    }
  ]
}