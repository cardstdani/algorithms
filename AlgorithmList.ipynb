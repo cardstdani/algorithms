{
  "nbformat": 4,
  "nbformat_minor": 0,
  "metadata": {
    "colab": {
      "provenance": [],
      "authorship_tag": "ABX9TyPgO3N8rOI7yr/NEuwEIfa8",
      "include_colab_link": true
    },
    "kernelspec": {
      "name": "python3",
      "display_name": "Python 3"
    },
    "language_info": {
      "name": "python"
    }
  },
  "cells": [
    {
      "cell_type": "markdown",
      "metadata": {
        "id": "view-in-github",
        "colab_type": "text"
      },
      "source": [
        "<a href=\"https://colab.research.google.com/github/cardstdani/algorithms/blob/main/AlgorithmList.ipynb\" target=\"_parent\"><img src=\"https://colab.research.google.com/assets/colab-badge.svg\" alt=\"Open In Colab\"/></a>"
      ]
    },
    {
      "cell_type": "code",
      "source": [
        "import random\n",
        "import numpy as np"
      ],
      "metadata": {
        "id": "dT27GozEZFoz"
      },
      "execution_count": 6,
      "outputs": []
    },
    {
      "cell_type": "markdown",
      "source": [
        "**ZigZag Traverse**"
      ],
      "metadata": {
        "id": "wgIOwI4fWyHl"
      }
    },
    {
      "cell_type": "code",
      "execution_count": 14,
      "metadata": {
        "colab": {
          "base_uri": "https://localhost:8080/"
        },
        "id": "v60vVDT2WviJ",
        "outputId": "1658fe9f-565b-4963-8dee-6d1e5fdcc626"
      },
      "outputs": [
        {
          "output_type": "stream",
          "name": "stdout",
          "text": [
            "[[4 5 9 7 9 2 3 3]\n",
            " [1 8 6 2 4 8 1 8]\n",
            " [5 5 2 8 7 8 7 9]\n",
            " [5 9 0 1 0 7 6 1]\n",
            " [4 7 2 7 7 5 0 7]\n",
            " [1 8 9 4 3 7 0 7]\n",
            " [7 0 3 4 5 5 1 2]\n",
            " [3 6 0 4 1 1 2 8]]\n"
          ]
        }
      ],
      "source": [
        "inMatrix  = np.random.randint(0,10,(random.randint(1, 10),random.randint(1, 10)))\n",
        "\n",
        "print(inMatrix)"
      ]
    }
  ]
}