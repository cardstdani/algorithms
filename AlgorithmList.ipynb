{
  "cells": [
    {
      "cell_type": "markdown",
      "metadata": {
        "id": "view-in-github",
        "colab_type": "text"
      },
      "source": [
        "<a href=\"https://colab.research.google.com/github/cardstdani/algorithms/blob/main/AlgorithmList.ipynb\" target=\"_parent\"><img src=\"https://colab.research.google.com/assets/colab-badge.svg\" alt=\"Open In Colab\"/></a>"
      ]
    },
    {
      "cell_type": "code",
      "execution_count": 1,
      "metadata": {
        "id": "dT27GozEZFoz"
      },
      "outputs": [],
      "source": [
        "import random\n",
        "import numpy as np\n",
        "import heapq"
      ]
    },
    {
      "cell_type": "markdown",
      "metadata": {
        "id": "wgIOwI4fWyHl"
      },
      "source": [
        "**ZigZag Traverse**"
      ]
    },
    {
      "cell_type": "code",
      "execution_count": null,
      "metadata": {
        "colab": {
          "base_uri": "https://localhost:8080/"
        },
        "id": "v60vVDT2WviJ",
        "outputId": "76220735-5386-4e3d-b8e1-2666012b8dfb"
      },
      "outputs": [
        {
          "name": "stdout",
          "output_type": "stream",
          "text": [
            "[[7 3 4 4 2 2 2 4 0]\n",
            " [0 8 3 6 4 9 4 3 4]\n",
            " [8 2 2 8 3 9 7 3 6]\n",
            " [7 9 9 0 3 5 4 3 2]] \n",
            "Output:\n",
            "[7, 0, 3, 4, 8, 8, 7, 2, 3, 4, 2, 6, 2, 9, 9, 8, 4, 2, 2, 9, 3, 0, 3, 9, 4, 4, 0, 3, 7, 5, 4, 3, 4, 6, 3, 2]\n"
          ]
        }
      ],
      "source": [
        "inMatrix  = np.random.randint(0,10,(random.randint(1, 10),random.randint(1, 10)))\n",
        "\n",
        "def zigZag(matrix, up=0):\n",
        "    out = []\n",
        "    i, j = 0, 0\n",
        "\n",
        "    while ((i+1) <= len(matrix)) and ((j+1) <= len(matrix[0])):\n",
        "        out.append(matrix[i][j])\n",
        "        if up==0:\n",
        "            if ((j-1) < 0): i += 1; up = 1; continue\n",
        "            elif ((i+1) == len(matrix)): j += 1; up = 1; continue\n",
        "            if ((j-1) < 0) and ((i+1) == len(matrix)): j += 1; up = 1; continue\n",
        "        else:\n",
        "            if ((i-1) < 0): j += 1; up = 0; continue\n",
        "            elif ((j+1) == len(matrix[0])): i += 1; up = 0; continue\n",
        "            if ((i-1) < 0) and ((j+1) == len(matrix[0])): i += 1; up = 0; continue\n",
        "\n",
        "        i += -1 if up else 1\n",
        "        j += 1 if up else -1\n",
        "    return out\n",
        "\n",
        "print(f\"{inMatrix} \\nOutput:\\n{zigZag(inMatrix)}\")"
      ]
    },
    {
      "cell_type": "code",
      "execution_count": null,
      "metadata": {
        "colab": {
          "base_uri": "https://localhost:8080/"
        },
        "id": "MIHYTV21ihhT",
        "outputId": "80c65f3a-e31d-4675-bd36-2dff29170324"
      },
      "outputs": [
        {
          "name": "stdout",
          "output_type": "stream",
          "text": [
            "[[8 1]\n",
            " [1 1]\n",
            " [6 3]\n",
            " [5 7]\n",
            " [9 0]\n",
            " [8 0]\n",
            " [5 5]] \n",
            "Output:\n",
            "[8, 1, 1, 1, 6, 5, 3, 7, 9, 8, 0, 0, 5, 5]\n"
          ]
        }
      ],
      "source": [
        "inMatrix  = np.random.randint(0,10,(random.randint(1, 10),random.randint(1, 10)))\n",
        "\n",
        "def zigZag(matrix):\n",
        "    out = []\n",
        "    i, j = 0, 0\n",
        "    rows = len(matrix)\n",
        "    cols = len(matrix[0])\n",
        "    up = 1\n",
        "\n",
        "    while i < rows and j < cols:\n",
        "        out.append(matrix[i][j])\n",
        "\n",
        "        if up == 1:\n",
        "            if j == 0 or i == rows - 1:\n",
        "                up = 0\n",
        "                if i == rows - 1:\n",
        "                    j += 1\n",
        "                else:\n",
        "                    i += 1\n",
        "            else:\n",
        "                i += 1\n",
        "                j -= 1\n",
        "        else:\n",
        "            if i == 0 or j == cols - 1:\n",
        "                up = 1\n",
        "                if j == cols - 1:\n",
        "                    i += 1\n",
        "                else:\n",
        "                    j += 1\n",
        "            else:\n",
        "                i -= 1\n",
        "                j += 1\n",
        "    return out\n",
        "\n",
        "print(f\"{inMatrix} \\nOutput:\\n{zigZag(inMatrix)}\")"
      ]
    },
    {
      "cell_type": "markdown",
      "metadata": {
        "id": "CIbZLGZ-7y5c"
      },
      "source": [
        "**Water Area**"
      ]
    },
    {
      "cell_type": "code",
      "execution_count": null,
      "metadata": {
        "colab": {
          "base_uri": "https://localhost:8080/"
        },
        "id": "0ksOP5Yi70OT",
        "outputId": "5b83d821-ced4-446a-928d-3260cb823549"
      },
      "outputs": [
        {
          "name": "stdout",
          "output_type": "stream",
          "text": [
            "[[0 0 0 ... 0 0 0]\n",
            " [0 0 0 ... 0 0 0]\n",
            " [0 0 0 ... 0 0 0]\n",
            " ...\n",
            " [1 1 0 ... 1 1 1]\n",
            " [1 1 0 ... 1 1 1]\n",
            " [1 1 1 ... 1 1 1]]\n",
            "[15, 10, 1, 26, 15, 20, 28, 1, 0, 13, 24, 10, 21, 16, 12, 4, 20, 9, 3, 18, 8, 8, 24, 15, 12, 18, 6, 20, 12, 26, 25, 11, 18, 10, 29, 18, 28, 17, 5, 20, 29, 16, 19, 27, 6, 19, 8, 29, 5, 11, 22, 24, 29, 9, 26, 20, 11, 21, 10, 10, 16, 17, 7, 6, 15, 8, 17, 3, 7, 24, 17, 4, 4, 26, 13, 3, 22, 29, 1, 6, 22, 25, 5, 12, 7, 18, 23, 12, 9, 19, 14, 12, 24, 17, 6, 23, 4, 4, 23, 24, 22, 8, 12, 23, 7, 1, 24, 25, 6, 9, 11, 25, 5, 17, 2, 25, 4, 5, 16, 22, 29, 8, 5, 6, 0, 6, 15, 28, 8, 18, 17, 6, 9, 1, 1, 0, 4, 15, 29, 20, 25, 29, 26, 3, 14, 20, 29, 29, 22, 1, 5, 18, 29, 27, 22, 22, 25, 4, 28, 14, 9, 10, 29, 24, 28, 21, 28, 28, 7, 18, 18, 28, 5, 19, 4, 9, 9, 22, 16, 22] \n",
            "Output:\n",
            "2341\n"
          ]
        }
      ],
      "source": [
        "inList = np.random.randint(0, 30, size=180).tolist()\n",
        "\n",
        "def trap(height):\n",
        "    l = []\n",
        "    m = max(height)\n",
        "    for i in height:\n",
        "        l.append([0]*(m-i) + [1]*i)\n",
        "    l = np.array(l).T\n",
        "    print(l)\n",
        "\n",
        "    out = 0\n",
        "    for i in l:\n",
        "        for j in range(len(l[0])):\n",
        "            if not i[j]==1:\n",
        "                out += 1 if (1 in i[:j]) and (1 in i[j+1:]) else 0\n",
        "    return out\n",
        "\n",
        "def trap2(height):\n",
        "    l = []\n",
        "    r = []\n",
        "    i, j, k = 0, height[0], height[-1]\n",
        "    while i<len(height):\n",
        "        j = j if height[i]<j else height[i]\n",
        "        l.append(j)\n",
        "\n",
        "        a = len(height)-i-1\n",
        "        k = k if height[a]<k else height[a]\n",
        "        r = [k]+r\n",
        "        i+=1\n",
        "\n",
        "\n",
        "    out = 0\n",
        "    for i in range(len(height)):\n",
        "        out += min(r[i], l[i]) - height[i]\n",
        "    return out\n",
        "\n",
        "print(f\"{inList} \\nOutput:\\n{trap(inList)}\")"
      ]
    },
    {
      "cell_type": "markdown",
      "metadata": {
        "id": "eaFHIgdq1kdI"
      },
      "source": [
        "**Kth Largest Element**"
      ]
    },
    {
      "cell_type": "code",
      "execution_count": null,
      "metadata": {
        "colab": {
          "base_uri": "https://localhost:8080/"
        },
        "id": "Cfehh8VO1j_5",
        "outputId": "3e6c5153-715b-433d-bf22-b33104ce16a4"
      },
      "outputs": [
        {
          "name": "stdout",
          "output_type": "stream",
          "text": [
            "[21, 27, 1, 18, 3, 6, 23, 15, 10, 19, 29, 19, 18, 7, 21] \n",
            "Output:\n",
            "21\n"
          ]
        }
      ],
      "source": [
        "inList = np.random.randint(0, 30, size=15).tolist()\n",
        "\n",
        "def kLargest(lis, k):\n",
        "    out = 0\n",
        "    l = [-i for i in lis]\n",
        "    heapq.heapify(l)\n",
        "    for i in range(k-1):\n",
        "        heapq.heappop(l)\n",
        "    return -heapq.heappop(l)\n",
        "\n",
        "print(f\"{inList} \\nOutput:\\n{kLargest(inList, 4)}\")"
      ]
    },
    {
      "cell_type": "markdown",
      "metadata": {
        "id": "JzkKnISoSEAC"
      },
      "source": [
        "**Largest Rectangle Area**"
      ]
    },
    {
      "cell_type": "code",
      "execution_count": null,
      "metadata": {
        "colab": {
          "base_uri": "https://localhost:8080/"
        },
        "id": "WHXOSn7OSDkc",
        "outputId": "12ac5f08-856b-423d-c1b8-81490c42e652"
      },
      "outputs": [
        {
          "name": "stdout",
          "output_type": "stream",
          "text": [
            "[16, 23, 16, 15, 15, 0, 18, 23, 3, 5, 6, 4, 19, 19, 5] \n",
            "Output:\n",
            "75\n"
          ]
        }
      ],
      "source": [
        "inList = np.random.randint(0, 30, size=15).tolist()\n",
        "\n",
        "def largestArea(height):\n",
        "        out = 0\n",
        "        l = [0]*len(height)\n",
        "        r = [0]*len(height)\n",
        "        l[0] = -1\n",
        "        r[-1] = len(height)\n",
        "\n",
        "        for i in range(1, len(height)):\n",
        "            p = i - 1\n",
        "\n",
        "            while p >= 0 and height[p] >= height[i]:\n",
        "                p = l[p]\n",
        "            l[i] = p\n",
        "\n",
        "        for i in range(len(height) - 2, -1, -1):\n",
        "            p = i + 1\n",
        "\n",
        "            while p < len(height) and height[p] >= height[i]:\n",
        "                p = r[p]\n",
        "            r[i] = p\n",
        "\n",
        "        for i in range(len(height)):\n",
        "            out = max(out, (r[i] - l[i] - 1)*height[i])\n",
        "        return out\n",
        "\n",
        "print(f\"{inList} \\nOutput:\\n{largestArea(inList)}\")"
      ]
    },
    {
      "cell_type": "markdown",
      "metadata": {
        "id": "Tz6sNQHM2tOp"
      },
      "source": [
        "**Last Digit of the Sum of Fibonacci Numbers**"
      ]
    },
    {
      "cell_type": "code",
      "execution_count": null,
      "metadata": {
        "colab": {
          "background_save": true
        },
        "id": "A3IfuJGR20Qh",
        "outputId": "33451406-42a8-4e1c-b107-b3654db881aa"
      },
      "outputs": [
        {
          "name": "stdout",
          "output_type": "stream",
          "text": [
            "5\n"
          ]
        }
      ],
      "source": [
        "n = int(input())\n",
        "\n",
        "def fib(n):\n",
        "    a, b = 0, 1\n",
        "    for i in range((n + 2) % 60):\n",
        "        a, b = b, (a + b) % 10\n",
        "    return 9 if a == 0 else a - 1\n",
        "\n",
        "print(fib(n))"
      ]
    },
    {
      "cell_type": "markdown",
      "source": [
        "**Transpose Matrix**"
      ],
      "metadata": {
        "id": "kn6nTHPlNoQh"
      }
    },
    {
      "cell_type": "code",
      "source": [
        "inMatrix  = np.random.randint(0,10,(random.randint(1, 10),random.randint(1, 10))).tolist()\n",
        "\n",
        "head = lambda x : x[0]\n",
        "tail = lambda x : x[1:]\n",
        "\n",
        "def transposeMatrix(matrix):\n",
        "    if not matrix or not matrix[0]:\n",
        "        return []\n",
        "    return [list(map(head, matrix))] + transposeMatrix(list(map(tail, matrix)))\n",
        "\n",
        "print(f\"{inMatrix} \\nOutput:\\n{transposeMatrix(inMatrix)}\")"
      ],
      "metadata": {
        "id": "WfzoF0meNnal",
        "colab": {
          "base_uri": "https://localhost:8080/"
        },
        "outputId": "8b919f15-0cf9-4bd1-a5a7-31948d751765"
      },
      "execution_count": 3,
      "outputs": [
        {
          "output_type": "stream",
          "name": "stdout",
          "text": [
            "[[5, 4, 9, 9], [8, 3, 0, 9], [5, 3, 5, 6], [1, 7, 4, 5]] \n",
            "Output:\n",
            "[[5, 8, 5, 1], [4, 3, 3, 7], [9, 0, 5, 4], [9, 9, 6, 5]]\n"
          ]
        }
      ]
    },
    {
      "cell_type": "markdown",
      "source": [
        "**Merge Sorted Arrays**"
      ],
      "metadata": {
        "id": "JhuAjyRlP__D"
      }
    },
    {
      "cell_type": "code",
      "source": [
        "def mergeSortedArrays(arrays):\n",
        "    return sorted(sum(arrays, []))"
      ],
      "metadata": {
        "id": "7ARSMpZuQDkO"
      },
      "execution_count": null,
      "outputs": []
    }
  ],
  "metadata": {
    "colab": {
      "provenance": [],
      "authorship_tag": "ABX9TyPNNkaul11cZUfg5C2dzNWb",
      "include_colab_link": true
    },
    "kernelspec": {
      "display_name": "Python 3",
      "name": "python3"
    },
    "language_info": {
      "name": "python"
    }
  },
  "nbformat": 4,
  "nbformat_minor": 0
}